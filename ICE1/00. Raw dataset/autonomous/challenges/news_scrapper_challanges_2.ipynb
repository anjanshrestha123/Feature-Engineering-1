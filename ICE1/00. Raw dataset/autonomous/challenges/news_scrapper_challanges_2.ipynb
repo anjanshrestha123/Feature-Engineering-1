{
 "cells": [
  {
   "cell_type": "markdown",
   "metadata": {},
   "source": [
    "# Web Scraping: Challenges 2"
   ]
  },
  {
   "cell_type": "code",
   "execution_count": 32,
   "metadata": {},
   "outputs": [],
   "source": [
    "import requests\n",
    "from bs4 import BeautifulSoup"
   ]
  },
  {
   "cell_type": "markdown",
   "metadata": {},
   "source": [
    "### Obtain list of news from the page"
   ]
  },
  {
   "cell_type": "markdown",
   "metadata": {},
   "source": [
    "URL definition:"
   ]
  },
  {
   "cell_type": "code",
   "execution_count": 33,
   "metadata": {},
   "outputs": [],
   "source": [
    "# url definition\n",
    "url = \"https://theconversation.com/autonomous-cars-five-reasons-they-still-arent-on-our-roads-143316\"\n"
   ]
  },
  {
   "cell_type": "markdown",
   "metadata": {},
   "source": [
    "List of news:"
   ]
  },
  {
   "cell_type": "code",
   "execution_count": 34,
   "metadata": {},
   "outputs": [],
   "source": [
    "# Request\n",
    "r1 = requests.get(url)\n",
    "r1.status_code\n",
    "\n",
    "# We'll save in coverpage the cover page content\n",
    "newspage = r1.content\n",
    "\n",
    "# Soup creation\n",
    "soup1 = BeautifulSoup(newspage, 'html5lib')\n",
    "\n",
    "# News identification\n",
    "news_titles = soup1.find_all('h2')"
   ]
  },
  {
   "cell_type": "code",
   "execution_count": 35,
   "metadata": {},
   "outputs": [],
   "source": [
    "news_titles1 = [news_title.get_text() for news_title in news_titles]"
   ]
  },
  {
   "cell_type": "code",
   "execution_count": 36,
   "metadata": {},
   "outputs": [],
   "source": [
    "soup_article = BeautifulSoup(newspage, 'html5lib')\n",
    "body = soup_article.find_all('p')\n",
    "\n",
    "content_1 = \"\".join(map (lambda x: x.get_text() ,body[9:13]))\n",
    "content_2 = \"\".join(map (lambda x: x.get_text() ,body[13:15]))\n",
    "content_3 = \"\".join(map (lambda x: x.get_text() ,body[15:17]))\n",
    "content_4 = \"\".join(map (lambda x: x.get_text() ,body[17:20]))\n",
    "content_5 = \"\".join(map (lambda x: x.get_text() ,body[20:24]))\n",
    "\n",
    "bodies = [content_1, content_2, content_3,content_4,content_5]\n"
   ]
  },
  {
   "cell_type": "code",
   "execution_count": 38,
   "metadata": {},
   "outputs": [],
   "source": [
    "def file_writer(num,title,body):\n",
    "    filename = '01'+str(num+1)+\".txt\"\n",
    "    file = open(filename,\"w\")\n",
    "    n = file.write(title + \"\\n\\n\"+body )\n",
    "    file.close()\n",
    "    \n",
    "for i in range(0,5):\n",
    "    file_writer(i,news_titles1[i], bodies[i])"
   ]
  },
  {
   "cell_type": "code",
   "execution_count": null,
   "metadata": {},
   "outputs": [],
   "source": []
  }
 ],
 "metadata": {
  "kernelspec": {
   "display_name": "Python 3 (ipykernel)",
   "language": "python",
   "name": "python3"
  },
  "language_info": {
   "codemirror_mode": {
    "name": "ipython",
    "version": 3
   },
   "file_extension": ".py",
   "mimetype": "text/x-python",
   "name": "python",
   "nbconvert_exporter": "python",
   "pygments_lexer": "ipython3",
   "version": "3.9.7"
  }
 },
 "nbformat": 4,
 "nbformat_minor": 2
}
