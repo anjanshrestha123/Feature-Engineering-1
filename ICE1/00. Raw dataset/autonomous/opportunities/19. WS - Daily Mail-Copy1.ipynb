{
 "cells": [
  {
   "cell_type": "markdown",
   "metadata": {},
   "source": [
    "# Web Scraping: Daily Mail"
   ]
  },
  {
   "cell_type": "code",
   "execution_count": 1,
   "metadata": {},
   "outputs": [],
   "source": [
    "import requests\n",
    "from bs4 import BeautifulSoup\n",
    "import numpy as np\n",
    "import pandas as pd\n",
    "import re\n",
    "import time"
   ]
  },
  {
   "cell_type": "markdown",
   "metadata": {},
   "source": [
    "### Obtain list of news from the coverpage"
   ]
  },
  {
   "cell_type": "markdown",
   "metadata": {},
   "source": [
    "URL definition:"
   ]
  },
  {
   "cell_type": "code",
   "execution_count": 2,
   "metadata": {},
   "outputs": [],
   "source": [
    "# url definition\n",
    "url = \"https://www.investopedia.com/articles/investing/052014/how-googles-selfdriving-car-will-change-everything.asp\""
   ]
  },
  {
   "cell_type": "markdown",
   "metadata": {},
   "source": [
    "List of news:"
   ]
  },
  {
   "cell_type": "code",
   "execution_count": 3,
   "metadata": {},
   "outputs": [],
   "source": [
    "# Request\n",
    "r1 = requests.get(url)\n",
    "r1.status_code\n",
    "\n",
    "# We'll save in coverpage the cover page content\n",
    "newspage = r1.content\n",
    "\n",
    "# Soup creation\n",
    "soup1 = BeautifulSoup(newspage, 'html5lib')\n",
    "\n",
    "# News identification\n",
    "news_titles = soup1.find_all('span', class_ = \"mntl-sc-block-heading__text\")\n",
    "news_titles = news_titles[3:6]"
   ]
  },
  {
   "cell_type": "code",
   "execution_count": 4,
   "metadata": {},
   "outputs": [
    {
     "data": {
      "text/plain": [
       "[' Infrastructure Transformation ',\n",
       " ' Changing Oil Demand ',\n",
       " ' Safety Dividend ']"
      ]
     },
     "execution_count": 4,
     "metadata": {},
     "output_type": "execute_result"
    }
   ],
   "source": [
    "news_titles1 = [news_title.get_text() for news_title in news_titles]\n",
    "news_titles1"
   ]
  },
  {
   "cell_type": "code",
   "execution_count": 5,
   "metadata": {},
   "outputs": [
    {
     "data": {
      "text/plain": [
       "\"\\n“These vehicles should practice very efficient eco-driving practices, which is typically about 20% better than the average driver,” said Chase. “On the other hand, if these cars are owned by individuals, I see a huge rise in the number of trips, and vehicle miles traveled. People will send out their car to run errands they would never do if they had to be in the car and waste their own time. If the autonomous cars are shared vehicles and people pay for each trip, I think this will reduce demand, and thus (vehicle miles traveled).”\\n\\nAutonomous vehicles are also expected to be safer. “These cars won't get drunk or high, drive too fast, or take unnecessary risks—things people do all the time,” Chase said.\\n\\n“Over 90% of accidents today are caused by driver error,” said Professor Robert W. Peterson of the Center for Insurance Law and Regulation at Santa Clara University School of Law. “There is every reason to believe that self-driving cars will reduce the frequency and severity of accidents,\\xa0so insurance costs should fall, perhaps dramatically.”\\ufeff\\ufeff\\n\\n“Cars can still get flooded, damaged, or stolen,” notes Michael Barry, vice president of media relations at the Insurance Information Institute. “But this technology will have a dramatic impact on underwriting. A lot of traditional underwriting criteria will be upended.”\\ufeff\\ufeff\\n\\nBarry said it’s too early to quantify exactly how self-driving vehicles will affect rates, but added that injured parties in a crash involving a self-driving car may choose to sue the vehicle’s manufacturer or the software company that designed the autonomous capability.\\n\\nInitially, insurers such as State Farm Insurance, Allstate Corp. (ALL), Liberty Mutual Group, Berkshire Hathaway Inc.’s (BRK-A) GEICO, Citigroup Inc.’s (C) Travelers Group could see a huge benefit from lower accident liabilities. But they may wind up losing a big portion of the $200 billion in personal auto premiums they write every year as fewer cars take to the road.\\n\\nSome experts have even speculated that mandatory insurance for cars could be dropped. And as long as we’re talking about financial services, what about the multitude of banks and creditors that lend buyers money in about 85% of car purchases if sales volume falls?\\ufeff\\ufeff\\n\\nAccording to a University of Texas report, if only 10% of the cars on U.S. roads were autonomous, almost $30 billion of savings could be realized via less wasted time and fuel, as well as fewer injuries and deaths. At 90%, the benefit rises to almost $120 billion a year.\\ufeff\\ufeff\\n\\nSelf-driving cars could have a substantial impact on the taxi and limousine industries and could potentially create new ones. Chase noted that they could be used to share specific trips, as a kind of pay-as-you-go small-scale public transportation—for example, taking a disparate bunch of Manhattanites to the same beach in the Hamptons in one trip.\\n\""
      ]
     },
     "execution_count": 5,
     "metadata": {},
     "output_type": "execute_result"
    }
   ],
   "source": [
    "soup_article = BeautifulSoup(newspage, 'html5lib')\n",
    "body = soup_article.find_all('p', class_ = \"comp mntl-sc-block finance-sc-block-html mntl-sc-block-html\")\n",
    "temp = \"\".join(map (lambda x: x.get_text() ,body[17:26]))\n",
    "temp"
   ]
  },
  {
   "cell_type": "code",
   "execution_count": 6,
   "metadata": {},
   "outputs": [
    {
     "data": {
      "text/plain": [
       "['\\nImagine getting into your car, typing—or, better yet speaking—a location into your vehicle’s interface, then letting it drive you to your destination while you read a book, surf the web, or nap. Self-driving vehicles—the stuff of science fiction since the first roads were paved—are coming, and they’re going to radically change what it’s like to get from point A to point B.\\n',\n",
       " \"\\nIn 2009, Google started the self-driving car project with the goal of driving autonomously over ten uninterrupted 100-mile routes. In 2016, Waymo, an autonomous driving technology company, became a subsidiary of Alphabet, and Google's self-driving project became Waymo.\\n\",\n",
       " '\\nSince then, Waymo has invited the public to join the first public trial of autonomous vehicles operated by the Waymo Driver and introduced its first fully autonomous vehicles operated by the Waymo Driver on public roads without anyone in the driver’s seat.\\n',\n",
       " '\\n“The building blocks of driverless cars are on the road now,” explained Russ Rader, senior vice president of communications at the Insurance Institute for Highway Safety\\ufeff\\ufeff. He pointed to the front-crash prevention systems that for several years have been able to warn drivers of an impending obstacle and apply the brakes if they don’t react fast enough.\\n',\n",
       " '\\nThese systems were quickly followed by technology that allows cars to self-park by sizing up a free spot and automatically steering into it, with the driver only controlling the accelerator and brake pedals. Mercedes-Benz took autonomous driving even further when they introduced Drive Pilot, which allows the driver to hand over direct control of steering and speed in certain circumstances, while still supervising the overall operation of the car.\\ufeff\\ufeff\\n',\n",
       " '\\nIn 2018, Waymo announced that they would be making self-driving cars available by 2020. However, despite some extraordinary advancements, in the year 2020, self-driving cars are still out of reach, except in some trial programs.\\ufeff\\ufeff The current technology on the market is limited to cars that will automatically brake for you if they anticipate a collision, cars that help keep you in your lane, and cars that can mostly handle highway driving.\\n',\n",
       " '\\nThe idea behind self-driving cars is fairly simple: build a car with cameras that can track all the objects around it. The car should react if it’s about to steer into one. And once in-car computers know all driving rules, they should be able to navigate to their destination. In the end, you might say that the execution of these ideas has been more complicated than was anticipated.\\n',\n",
       " \"\\nWaymo's cars, the leader in self-driving technology, use high-resolution cameras and lidar (light detection and ranging, which is a way of estimating the distance to another object by bouncing light and sound off things). This technology helps the self-driving car identify where other cars, cyclists, pedestrians, and obstacles are and where they’re moving.\\ufeff\\ufeff\\n\",\n",
       " '\\nWith the adoption of any new revolutionary technology, it is predicted there will be problems for businesses that don’t adjust fast enough to future developments in self-driving car technology. Futurists estimate that hundreds of billions of dollars (if not trillions) will be lost by automakers, suppliers, dealers, insurers, parking companies, and many other car-related enterprises. And think of the lost revenue for governments via licensing fees, taxes and tolls, and by personal injury lawyers and health insurers.\\n',\n",
       " '\\nWho needs a car made with heavier-gauge steel and eight airbags (not to mention a body shop) if accidents are so rare? Who needs a parking spot close to work if your car can drive you there, park itself miles away, only to pick you up later? Who needs to buy a flight from Boston to Cleveland when you can leave in the evening, sleep much of the way, and arrive in the morning?\\n',\n",
       " '\\nIndeed, one of Google’s goals is to facilitate car-sharing.\\ufeff\\ufeff That means fewer cars on the road. Fewer cars, period. Who needs to own a car when you can just order a shared one and it’ll drive up minutes later, ready to take you wherever you want?\\n',\n",
       " \"\\n“This [has the potential to] dramatically reduce the number of cars on the street, 80% of which have people driving alone in them, and also a household's cost of transportation, which is 18% of their income—around $9,000 a year—for an asset that they use only 5% of the time,” said Robin Chase, the founder and CEO of Buzzcar, a peer-to-peer car-sharing service, and co-founder and former CEO of Zipcar.\\n\",\n",
       " '\\nIn 2030, self-driving cars are expected to create $87 billion worth of opportunities for automakers and technology developers, said a report by Boston-based Lux Research.\\ufeff\\ufeff Software developers stand to win big.\\n',\n",
       " '\\nIf you’re an automaker, such as Ford Motor Co. (F), General Motors Co. (GM), Chrysler Group LLC, Toyota Motor Corp. or Honda Motor Co., Ltd. (HMC), which account for almost 70% of the U.S. market, you could see an initial surge in the $600 billion in annual new and used car sales globally.\\ufeff\\ufeff \\ufeff\\ufeff But as soon as the technology takes hold, sales could fall off significantly as sharing popularizes.\\n',\n",
       " '\\nCars will always need steel, glass, an interior, a drivetrain, and some form of human interface (even if that interface is little more than a wireless connection to your smartphone). But much of everything else could change. As an example, take front-facing seats; they could become an option, not a requirement. Automakers that see the changes coming—such as how the big profits are secured downstream by car servicers, insurers, and more—are focusing on services as much as on what and how they manufacture.\\n',\n",
       " '\\nWith fewer cars around, parking lots and spaces that cover roughly one-third of the land area of many U.S. cities can be repurposed. That could mean temporary downward pressure on real estate values as supply increases. It could also mean greener urban areas and revitalized suburbs if longer commutes become more palatable. And if fewer cars are on the road, federal, state, and local government agencies may be able to reallocate a good portion of the roughly $180 billion spent annually on highways and roads.\\ufeff\\ufeff\\n',\n",
       " '\\nIf you’re in the business of finding, extracting, refining, and marketing hydrocarbons, such as Exxon Mobil (EOX), Chevron (CVX), or BP (BP), you could see your business fluctuate as use changes.\\n',\n",
       " '\\n“These vehicles should practice very efficient eco-driving practices, which is typically about 20% better than the average driver,” said Chase. “On the other hand, if these cars are owned by individuals, I see a huge rise in the number of trips, and vehicle miles traveled. People will send out their car to run errands they would never do if they had to be in the car and waste their own time. If the autonomous cars are shared vehicles and people pay for each trip, I think this will reduce demand, and thus (vehicle miles traveled).”\\n',\n",
       " \"\\nAutonomous vehicles are also expected to be safer. “These cars won't get drunk or high, drive too fast, or take unnecessary risks—things people do all the time,” Chase said.\\n\",\n",
       " '\\n“Over 90% of accidents today are caused by driver error,” said Professor Robert W. Peterson of the Center for Insurance Law and Regulation at Santa Clara University School of Law. “There is every reason to believe that self-driving cars will reduce the frequency and severity of accidents,\\xa0so insurance costs should fall, perhaps dramatically.”\\ufeff\\ufeff\\n',\n",
       " '\\n“Cars can still get flooded, damaged, or stolen,” notes Michael Barry, vice president of media relations at the Insurance Information Institute. “But this technology will have a dramatic impact on underwriting. A lot of traditional underwriting criteria will be upended.”\\ufeff\\ufeff\\n',\n",
       " '\\nBarry said it’s too early to quantify exactly how self-driving vehicles will affect rates, but added that injured parties in a crash involving a self-driving car may choose to sue the vehicle’s manufacturer or the software company that designed the autonomous capability.\\n',\n",
       " '\\nInitially, insurers such as State Farm Insurance, Allstate Corp. (ALL), Liberty Mutual Group, Berkshire Hathaway Inc.’s (BRK-A) GEICO, Citigroup Inc.’s (C) Travelers Group could see a huge benefit from lower accident liabilities. But they may wind up losing a big portion of the $200 billion in personal auto premiums they write every year as fewer cars take to the road.\\n',\n",
       " '\\nSome experts have even speculated that mandatory insurance for cars could be dropped. And as long as we’re talking about financial services, what about the multitude of banks and creditors that lend buyers money in about 85% of car purchases if sales volume falls?\\ufeff\\ufeff\\n',\n",
       " '\\nAccording to a University of Texas report, if only 10% of the cars on U.S. roads were autonomous, almost $30 billion of savings could be realized via less wasted time and fuel, as well as fewer injuries and deaths. At 90%, the benefit rises to almost $120 billion a year.\\ufeff\\ufeff\\n',\n",
       " '\\nSelf-driving cars could have a substantial impact on the taxi and limousine industries and could potentially create new ones. Chase noted that they could be used to share specific trips, as a kind of pay-as-you-go small-scale public transportation—for example, taking a disparate bunch of Manhattanites to the same beach in the Hamptons in one trip.\\n',\n",
       " '\\nOne study found that a fleet of 9,000 driverless taxis could serve all of Manhattan at about $0.50 per mile (compared to about $5 per mile now). At the time the study was published, there were licenses for over 13,000 taxis in New York City.\\ufeff\\ufeff\\n',\n",
       " '\\nSelf-driving cars may also challenge train lines.\\xa0“A self-driving car offers much of the convenience of rail service with the added convenience that the service is portal-to-portal rather than station-to-station,” Peterson said.\\n',\n",
       " '\\n“On the other hand, a fleet of self-driving cars available at the station may make rail service more palatable. “The technology has already been adopted in closed systems, such as campuses, air-terminals, and mining,” he noted. “Rio Tinto Group (RIO), a large mining company, uses enormous self-driving trucks in its mining operations.\\xa0European countries are experimenting with the platooning of trucks. Among other things, this saves about 18% in fuel.”\\n',\n",
       " '\\nThere are regulatory and legislative obstacles to the widespread use of self-driving cars and substantial concerns about privacy. (Who will have access to any driving information these vehicles store?) There’s also the question of security, as hackers could theoretically take control of these vehicles, and are not known for their restraint or civic-mindedness.\\n',\n",
       " '\\nIn March 2020, Waymo Via, the trucking division of Waymo, was launched. According to Google, since 2017 Waymo Driver had been learning to drive large Class 8 trucks in the same way that it had learned how to drive passenger vehicles. Waymo is currently testing its fleet of trucks in California, Arizona, New Mexico, and Texas, and has launched a pilot program for local delivery in the Phoenix, Arizona area.\\ufeff\\ufeff\\n',\n",
       " \"\\nWaymo has partnerships with multiple vehicle manufacturers to integrate its technology. In October 2020, Waymo and Daimler Trucks partnered to create an autonomous version of the Freightliner Cascadia truck. This is Waymo's first foray into the freight industry. Daimler's trucks will be equipped with autonomous technology that allows them to drive without a human but only in pre-defined areas.\\ufeff\\ufeff\\n\",\n",
       " '\\nGoogle has made it clear that it has no plans to build cars itself. Waymo is a self-driving technology company; it does not intend to manufacture and sell its own line of vehicles.\\n',\n",
       " \"\\nEarly estimates about self-driving cars being the norm by 2020 have turned into having a few research vehicles on the road by 2020. Even if the technology is not developing as fast as expected, computer-processing capabilities and sophisticated artificial intelligence systems are becoming more advanced and more affordable every year. It's not clear when all the pieces will truly fall into place to allow for driverless technologies to safely navigate public roads among traditional cars. While experts agree that there will be a time in the future when this is true, they disagree on the timeline.\\n\",\n",
       " '\\nGoogle does not manufacture or sell its own cars. However, you can purchase a semi-autonomous Honda Civic that comes with advanced driver assistance systems (ADAS) that control the steering, lane changing, acceleration, and braking while the car is cruising on the highway. You can also purchase a Tesla Motors vehicle that comes equipped with its semi-autonomous Autopilot feature.\\n',\n",
       " '\\nHowever it plays out, these vehicles are coming—and fast. Their full adoption will take decades, but their convenience, cost, safety, and other factors will make them ubiquitous and indispensable. Such as with any technological revolution, the companies that plan ahead, adjust the fastest, and imagine the biggest will survive and thrive. And companies invested in old technology and practices will need to evolve or risk dying.\\n']"
      ]
     },
     "execution_count": 6,
     "metadata": {},
     "output_type": "execute_result"
    }
   ],
   "source": [
    "bodies = [x.get_text() for x in body ]\n",
    "bodies"
   ]
  },
  {
   "cell_type": "code",
   "execution_count": 7,
   "metadata": {},
   "outputs": [],
   "source": [
    "def file_writer(num,title,body):\n",
    "    filename = '00'+str(num+1)+\".txt\"\n",
    "    file = open(filename,\"w\")\n",
    "    n = file.write(title + \"\\n\\n\"+body )\n",
    "    file.close\n",
    "for i in range(0,3):\n",
    "    file_writer(i,news_titles1[i], bodies[i])"
   ]
  },
  {
   "cell_type": "markdown",
   "metadata": {},
   "source": [
    "Now we have a list in which every element is a news article:"
   ]
  },
  {
   "cell_type": "code",
   "execution_count": 6,
   "metadata": {},
   "outputs": [
    {
     "data": {
      "text/plain": [
       "<h2 class=\"entry-title qodef-post-title\" itemprop=\"name\">\n",
       "    \n",
       "\t        Five challenges in designing a fully autonomous system for driverless cars        \t\n",
       "</h2>"
      ]
     },
     "execution_count": 6,
     "metadata": {},
     "output_type": "execute_result"
    }
   ],
   "source": [
    "coverpage_news[0]"
   ]
  },
  {
   "cell_type": "markdown",
   "metadata": {},
   "source": [
    "### Let's extract the text from the articles:"
   ]
  },
  {
   "cell_type": "markdown",
   "metadata": {},
   "source": [
    "First, we'll define the number of articles we want:"
   ]
  },
  {
   "cell_type": "code",
   "execution_count": 7,
   "metadata": {},
   "outputs": [],
   "source": [
    "number_of_articles = 1"
   ]
  },
  {
   "cell_type": "code",
   "execution_count": 11,
   "metadata": {},
   "outputs": [
    {
     "data": {
      "text/plain": [
       "'\\n    \\n\\t        Five challenges in designing a fully autonomous system for driverless cars        \\t\\n'"
      ]
     },
     "execution_count": 11,
     "metadata": {},
     "output_type": "execute_result"
    }
   ],
   "source": [
    "title = coverpage_news[0].get_text()\n",
    "title"
   ]
  },
  {
   "cell_type": "code",
   "execution_count": 14,
   "metadata": {},
   "outputs": [
    {
     "data": {
      "text/plain": [
       "<p>Autonomous cars would have to get onto the road where they would have to drive in all sorts of traffic conditions. They would have to drive with other autonomous cars on the road, and at the same time, there would also be a lot of humans. Wherever humans are involved, there are involved a lot of emotions. Traffic could be highly moderated and self-regulated. But often there are cases where people may be breaking traffic rules. An object may turn up in unexpected conditions. In the case of dense traffic, even the movement of few cms per minute does matter. One can’t wait endlessly for traffic to automatically clear and have some precondition to start moving. If more of such cars on the road are waiting for traffic to get cleared, ultimately that may result in a traffic deadlock.</p>"
      ]
     },
     "execution_count": 14,
     "metadata": {},
     "output_type": "execute_result"
    }
   ],
   "source": [
    "soup_article = BeautifulSoup(coverpage, 'html5lib')\n",
    "body = soup_article.find_all('p')\n",
    "body[6]"
   ]
  },
  {
   "cell_type": "code",
   "execution_count": 8,
   "metadata": {},
   "outputs": [
    {
     "ename": "TypeError",
     "evalue": "'NoneType' object is not subscriptable",
     "output_type": "error",
     "traceback": [
      "\u001b[0;31m---------------------------------------------------------------------------\u001b[0m",
      "\u001b[0;31mTypeError\u001b[0m                                 Traceback (most recent call last)",
      "\u001b[0;32m<ipython-input-8-8b2181b4c077>\u001b[0m in \u001b[0;36m<module>\u001b[0;34m\u001b[0m\n\u001b[1;32m      7\u001b[0m \u001b[0;34m\u001b[0m\u001b[0m\n\u001b[1;32m      8\u001b[0m     \u001b[0;31m# Getting the link of the article\u001b[0m\u001b[0;34m\u001b[0m\u001b[0;34m\u001b[0m\u001b[0;34m\u001b[0m\u001b[0m\n\u001b[0;32m----> 9\u001b[0;31m     \u001b[0mlink\u001b[0m \u001b[0;34m=\u001b[0m \u001b[0murl\u001b[0m \u001b[0;34m+\u001b[0m \u001b[0mcoverpage_news\u001b[0m\u001b[0;34m[\u001b[0m\u001b[0mn\u001b[0m\u001b[0;34m]\u001b[0m\u001b[0;34m.\u001b[0m\u001b[0mfind\u001b[0m\u001b[0;34m(\u001b[0m\u001b[0;34m'a'\u001b[0m\u001b[0;34m)\u001b[0m\u001b[0;34m[\u001b[0m\u001b[0;34m'href'\u001b[0m\u001b[0;34m]\u001b[0m\u001b[0;34m\u001b[0m\u001b[0;34m\u001b[0m\u001b[0m\n\u001b[0m\u001b[1;32m     10\u001b[0m     \u001b[0mlist_links\u001b[0m\u001b[0;34m.\u001b[0m\u001b[0mappend\u001b[0m\u001b[0;34m(\u001b[0m\u001b[0mlink\u001b[0m\u001b[0;34m)\u001b[0m\u001b[0;34m\u001b[0m\u001b[0;34m\u001b[0m\u001b[0m\n\u001b[1;32m     11\u001b[0m \u001b[0;34m\u001b[0m\u001b[0m\n",
      "\u001b[0;31mTypeError\u001b[0m: 'NoneType' object is not subscriptable"
     ]
    }
   ],
   "source": [
    "# Empty lists for content, links and titles\n",
    "news_contents = []\n",
    "list_links = []\n",
    "list_titles = []\n",
    "\n",
    "for n in np.arange(0, number_of_articles):\n",
    "        \n",
    "    # Getting the link of the article\n",
    "    link = url + coverpage_news[n].find('a')['href']\n",
    "    list_links.append(link)\n",
    "    \n",
    "    # Getting the title\n",
    "    title = coverpage_news[n].find('a').get_text()\n",
    "    list_titles.append(title)\n",
    "    \n",
    "    # Reading the content (it is divided in paragraphs)\n",
    "    article = requests.get(link)\n",
    "    article_content = article.content\n",
    "    soup_article = BeautifulSoup(article_content, 'html5lib')\n",
    "    body = soup_article.find_all('p', class_='mol-para-with-font')\n",
    "    \n",
    "    # Unifying the paragraphs\n",
    "    list_paragraphs = []\n",
    "    for p in np.arange(0, len(body)):\n",
    "        paragraph = body[p].get_text()\n",
    "        list_paragraphs.append(paragraph)\n",
    "        final_article = \" \".join(list_paragraphs)\n",
    "        \n",
    "    # Removing special characters\n",
    "    final_article = re.sub(\"\\\\xa0\", \"\", final_article)\n",
    "        \n",
    "    news_contents.append(final_article)"
   ]
  },
  {
   "cell_type": "markdown",
   "metadata": {},
   "source": [
    "Let's put them into:\n",
    "* a dataset which will the input of the models (`df_features`)\n",
    "* a dataset with the title and the link (`df_show_info`)"
   ]
  },
  {
   "cell_type": "code",
   "execution_count": 7,
   "metadata": {},
   "outputs": [],
   "source": [
    "# df_features\n",
    "df_features = pd.DataFrame(\n",
    "     {'Article Content': news_contents \n",
    "    })\n",
    "\n",
    "# df_show_info\n",
    "df_show_info = pd.DataFrame(\n",
    "    {'Article Title': list_titles,\n",
    "     'Article Link': list_links})"
   ]
  },
  {
   "cell_type": "code",
   "execution_count": 8,
   "metadata": {},
   "outputs": [
    {
     "data": {
      "text/html": [
       "<div>\n",
       "<style scoped>\n",
       "    .dataframe tbody tr th:only-of-type {\n",
       "        vertical-align: middle;\n",
       "    }\n",
       "\n",
       "    .dataframe tbody tr th {\n",
       "        vertical-align: top;\n",
       "    }\n",
       "\n",
       "    .dataframe thead th {\n",
       "        text-align: right;\n",
       "    }\n",
       "</style>\n",
       "<table border=\"1\" class=\"dataframe\">\n",
       "  <thead>\n",
       "    <tr style=\"text-align: right;\">\n",
       "      <th></th>\n",
       "      <th>Article Content</th>\n",
       "    </tr>\n",
       "  </thead>\n",
       "  <tbody>\n",
       "    <tr>\n",
       "      <th>0</th>\n",
       "      <td>A pair of student drug dealers have been spare...</td>\n",
       "    </tr>\n",
       "    <tr>\n",
       "      <th>1</th>\n",
       "      <td>Abu Hamza's son is the suspect held in connect...</td>\n",
       "    </tr>\n",
       "    <tr>\n",
       "      <th>2</th>\n",
       "      <td>The doorman stabbed in Mayfair on New Year's E...</td>\n",
       "    </tr>\n",
       "    <tr>\n",
       "      <th>3</th>\n",
       "      <td>Quite a lot of space on the internet has been ...</td>\n",
       "    </tr>\n",
       "    <tr>\n",
       "      <th>4</th>\n",
       "      <td>Grace Kelly's granddaughterCharlotte Casiraghi...</td>\n",
       "    </tr>\n",
       "  </tbody>\n",
       "</table>\n",
       "</div>"
      ],
      "text/plain": [
       "                                     Article Content\n",
       "0  A pair of student drug dealers have been spare...\n",
       "1  Abu Hamza's son is the suspect held in connect...\n",
       "2  The doorman stabbed in Mayfair on New Year's E...\n",
       "3  Quite a lot of space on the internet has been ...\n",
       "4  Grace Kelly's granddaughterCharlotte Casiraghi..."
      ]
     },
     "execution_count": 8,
     "metadata": {},
     "output_type": "execute_result"
    }
   ],
   "source": [
    "df_features"
   ]
  },
  {
   "cell_type": "code",
   "execution_count": 9,
   "metadata": {},
   "outputs": [
    {
     "data": {
      "text/html": [
       "<div>\n",
       "<style scoped>\n",
       "    .dataframe tbody tr th:only-of-type {\n",
       "        vertical-align: middle;\n",
       "    }\n",
       "\n",
       "    .dataframe tbody tr th {\n",
       "        vertical-align: top;\n",
       "    }\n",
       "\n",
       "    .dataframe thead th {\n",
       "        text-align: right;\n",
       "    }\n",
       "</style>\n",
       "<table border=\"1\" class=\"dataframe\">\n",
       "  <thead>\n",
       "    <tr style=\"text-align: right;\">\n",
       "      <th></th>\n",
       "      <th>Article Title</th>\n",
       "      <th>Article Link</th>\n",
       "    </tr>\n",
       "  </thead>\n",
       "  <tbody>\n",
       "    <tr>\n",
       "      <th>0</th>\n",
       "      <td>Student drug dealers are SPARED jail after imp...</td>\n",
       "      <td>https://www.dailymail.co.uk/news/article-65535...</td>\n",
       "    </tr>\n",
       "    <tr>\n",
       "      <th>1</th>\n",
       "      <td>Revealed: Hate preacher Abu Hamza's son, 26, i...</td>\n",
       "      <td>https://www.dailymail.co.uk/news/article-65540...</td>\n",
       "    </tr>\n",
       "    <tr>\n",
       "      <th>2</th>\n",
       "      <td>Doorman stabbed in Mayfair on New Year's Eve d...</td>\n",
       "      <td>https://www.dailymail.co.uk/news/article-65485...</td>\n",
       "    </tr>\n",
       "    <tr>\n",
       "      <th>3</th>\n",
       "      <td>Enjoy crispy hash browns, the freshest fries, ...</td>\n",
       "      <td>https://www.dailymail.co.uk/femail/food/articl...</td>\n",
       "    </tr>\n",
       "    <tr>\n",
       "      <th>4</th>\n",
       "      <td>Grace Kelly's granddaughter Charlotte Casiragh...</td>\n",
       "      <td>https://www.dailymail.co.uk/femail/article-655...</td>\n",
       "    </tr>\n",
       "  </tbody>\n",
       "</table>\n",
       "</div>"
      ],
      "text/plain": [
       "                                       Article Title  \\\n",
       "0  Student drug dealers are SPARED jail after imp...   \n",
       "1  Revealed: Hate preacher Abu Hamza's son, 26, i...   \n",
       "2  Doorman stabbed in Mayfair on New Year's Eve d...   \n",
       "3  Enjoy crispy hash browns, the freshest fries, ...   \n",
       "4  Grace Kelly's granddaughter Charlotte Casiragh...   \n",
       "\n",
       "                                        Article Link  \n",
       "0  https://www.dailymail.co.uk/news/article-65535...  \n",
       "1  https://www.dailymail.co.uk/news/article-65540...  \n",
       "2  https://www.dailymail.co.uk/news/article-65485...  \n",
       "3  https://www.dailymail.co.uk/femail/food/articl...  \n",
       "4  https://www.dailymail.co.uk/femail/article-655...  "
      ]
     },
     "execution_count": 9,
     "metadata": {},
     "output_type": "execute_result"
    }
   ],
   "source": [
    "df_show_info"
   ]
  },
  {
   "cell_type": "markdown",
   "metadata": {},
   "source": [
    "### Time Elapsed"
   ]
  },
  {
   "cell_type": "markdown",
   "metadata": {},
   "source": [
    "We are interested in how much time the script takes to get the news because this will impact directly on user experience. For this, we'll put it all into a single function and then call it:"
   ]
  },
  {
   "cell_type": "code",
   "execution_count": 10,
   "metadata": {},
   "outputs": [],
   "source": [
    "def get_news_dailymail():\n",
    "    \n",
    "    # url definition\n",
    "    url = \"https://www.dailymail.co.uk\"\n",
    "    \n",
    "    # Request\n",
    "    r1 = requests.get(url)\n",
    "    r1.status_code\n",
    "\n",
    "    # We'll save in coverpage the cover page content\n",
    "    coverpage = r1.content\n",
    "\n",
    "    # Soup creation\n",
    "    soup1 = BeautifulSoup(coverpage, 'html5lib')\n",
    "\n",
    "    # News identification\n",
    "    coverpage_news = soup1.find_all('h2', class_='linkro-darkred')\n",
    "    len(coverpage_news)\n",
    "    \n",
    "    number_of_articles = 5\n",
    "\n",
    "    # Empty lists for content, links and titles\n",
    "    news_contents = []\n",
    "    list_links = []\n",
    "    list_titles = []\n",
    "\n",
    "    for n in np.arange(0, number_of_articles):\n",
    "\n",
    "        # Getting the link of the article\n",
    "        link = url + coverpage_news[n].find('a')['href']\n",
    "        list_links.append(link)\n",
    "\n",
    "        # Getting the title\n",
    "        title = coverpage_news[n].find('a').get_text()\n",
    "        list_titles.append(title)\n",
    "\n",
    "        # Reading the content (it is divided in paragraphs)\n",
    "        article = requests.get(link)\n",
    "        article_content = article.content\n",
    "        soup_article = BeautifulSoup(article_content, 'html5lib')\n",
    "        body = soup_article.find_all('p', class_='mol-para-with-font')\n",
    "\n",
    "        # Unifying the paragraphs\n",
    "        list_paragraphs = []\n",
    "        for p in np.arange(0, len(body)):\n",
    "            paragraph = body[p].get_text()\n",
    "            list_paragraphs.append(paragraph)\n",
    "            final_article = \" \".join(list_paragraphs)\n",
    "\n",
    "         # Removing special characters\n",
    "        final_article = re.sub(\"\\\\xa0\", \"\", final_article)\n",
    "        \n",
    "        news_contents.append(final_article)\n",
    "        \n",
    "\n",
    "    # df_features\n",
    "    df_features = pd.DataFrame(\n",
    "         {'Content': news_contents \n",
    "        })\n",
    "\n",
    "    # df_show_info\n",
    "    df_show_info = pd.DataFrame(\n",
    "        {'Article Title': list_titles,\n",
    "         'Article Link': list_links,\n",
    "         'Newspaper': 'Daily Mail'})\n",
    "    \n",
    "    return (df_features, df_show_info)"
   ]
  },
  {
   "cell_type": "code",
   "execution_count": 13,
   "metadata": {},
   "outputs": [
    {
     "name": "stdout",
     "output_type": "stream",
     "text": [
      "The time elapsed is 31.879444 seconds\n"
     ]
    }
   ],
   "source": [
    "start = time.time()\n",
    "x, y = get_news_dailymail()\n",
    "end =time.time()\n",
    "te = end-start\n",
    "print(\"The time elapsed is %f seconds\" %(te))"
   ]
  },
  {
   "cell_type": "markdown",
   "metadata": {},
   "source": [
    "Really slow. We won't include in the app."
   ]
  }
 ],
 "metadata": {
  "kernelspec": {
   "display_name": "Python 3",
   "language": "python",
   "name": "python3"
  },
  "language_info": {
   "codemirror_mode": {
    "name": "ipython",
    "version": 3
   },
   "file_extension": ".py",
   "mimetype": "text/x-python",
   "name": "python",
   "nbconvert_exporter": "python",
   "pygments_lexer": "ipython3",
   "version": "3.7.4"
  }
 },
 "nbformat": 4,
 "nbformat_minor": 2
}
