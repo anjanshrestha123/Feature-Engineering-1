{
 "cells": [
  {
   "cell_type": "markdown",
   "metadata": {},
   "source": [
    "# Web Scraping: Oppotunities 1"
   ]
  },
  {
   "cell_type": "code",
   "execution_count": 16,
   "metadata": {},
   "outputs": [
    {
     "name": "stdout",
     "output_type": "stream",
     "text": [
      "remote: Enumerating objects: 16, done.\u001b[K\n",
      "remote: Counting objects: 100% (16/16), done.\u001b[K\n",
      "remote: Compressing objects: 100% (5/5), done.\u001b[K\n",
      "remote: Total 10 (delta 4), reused 9 (delta 4), pack-reused 0\u001b[K\n",
      "Unpacking objects: 100% (10/10), done.\n",
      "From https://github.com/helloaashish/Feature-Engineering\n",
      "   6418ef2..9bb141f  master     -> origin/master\n",
      "Updating 6418ef2..9bb141f\n",
      "Fast-forward\n",
      " .../challenges/news_scrapper_challanges.ipynb      | 616 \u001b[31m-------------------\u001b[m\n",
      " .../challenges/news_scrapper_challanges_1.ipynb    | 141 \u001b[32m+++++\u001b[m\n",
      " .../challenges/news_scrapper_challanges_2.ipynb    | 143 \u001b[32m+++++\u001b[m\n",
      " .../19. WS - Daily Mail-Copy1-checkpoint.ipynb     | 663 \u001b[31m---------------------\u001b[m\n",
      " .../opportunities/19. WS - Daily Mail-Copy1.ipynb  | 663 \u001b[31m---------------------\u001b[m\n",
      " 5 files changed, 284 insertions(+), 1942 deletions(-)\n",
      " delete mode 100644 ICE1/00. Raw dataset/autonomous/challenges/news_scrapper_challanges.ipynb\n",
      " create mode 100644 ICE1/00. Raw dataset/autonomous/challenges/news_scrapper_challanges_1.ipynb\n",
      " create mode 100644 ICE1/00. Raw dataset/autonomous/challenges/news_scrapper_challanges_2.ipynb\n",
      " delete mode 100644 ICE1/00. Raw dataset/autonomous/opportunities/.ipynb_checkpoints/19. WS - Daily Mail-Copy1-checkpoint.ipynb\n",
      " delete mode 100644 ICE1/00. Raw dataset/autonomous/opportunities/19. WS - Daily Mail-Copy1.ipynb\n"
     ]
    }
   ],
   "source": [
    "!git pull"
   ]
  },
  {
   "cell_type": "code",
   "execution_count": 1,
   "metadata": {},
   "outputs": [],
   "source": [
    "import requests\n",
    "from bs4 import BeautifulSoup"
   ]
  },
  {
   "cell_type": "markdown",
   "metadata": {},
   "source": [
    "### Obtain list of news from the page"
   ]
  },
  {
   "cell_type": "markdown",
   "metadata": {},
   "source": [
    "URL definition:"
   ]
  },
  {
   "cell_type": "code",
   "execution_count": 2,
   "metadata": {},
   "outputs": [],
   "source": [
    "# url definition\n",
    "url = \"https://theconversation.com/billions-are-pouring-into-mobility-technology-will-the-transport-revolution-live-up-to-the-hype-131154\""
   ]
  },
  {
   "cell_type": "markdown",
   "metadata": {},
   "source": [
    "List of news:"
   ]
  },
  {
   "cell_type": "code",
   "execution_count": 3,
   "metadata": {},
   "outputs": [
    {
     "data": {
      "text/plain": [
       "[<h2>Promised solutions, emerging problems</h2>,\n",
       " <h2>3 trends are driving investment</h2>,\n",
       " <h2>The future of transport isn’t simple</h2>]"
      ]
     },
     "execution_count": 3,
     "metadata": {},
     "output_type": "execute_result"
    }
   ],
   "source": [
    "# Request\n",
    "r1 = requests.get(url)\n",
    "r1.status_code\n",
    "\n",
    "# We'll save in coverpage the cover page content\n",
    "newspage = r1.content\n",
    "\n",
    "# Soup creation\n",
    "soup1 = BeautifulSoup(newspage, 'html5lib')\n",
    "\n",
    "# News identification\n",
    "news_titles = soup1.find_all('h2')\n",
    "news_titles "
   ]
  },
  {
   "cell_type": "code",
   "execution_count": 4,
   "metadata": {},
   "outputs": [
    {
     "data": {
      "text/plain": [
       "['Promised solutions, emerging problems',\n",
       " '3 trends are driving investment',\n",
       " 'The future of transport isn’t simple']"
      ]
     },
     "execution_count": 4,
     "metadata": {},
     "output_type": "execute_result"
    }
   ],
   "source": [
    "news_titles1 = [news_title.get_text() for news_title in news_titles]\n",
    "news_titles1"
   ]
  },
  {
   "cell_type": "code",
   "execution_count": 14,
   "metadata": {},
   "outputs": [],
   "source": [
    "soup_article = BeautifulSoup(newspage, 'html5lib')\n",
    "body = soup_article.find_all('p')\n",
    "body[27:30]\n",
    "\n",
    "content1= \"\".join(map (lambda x: x.get_text() ,body[10:18]))\n",
    "content2= \"\".join(map (lambda x: x.get_text() ,body[19:27]))\n",
    "content3= \"\".join(map (lambda x: x.get_text() ,body[27:30]))\n",
    "#body[15]\n",
    "\n",
    "bodies = [content1, content2, content3]\n"
   ]
  },
  {
   "cell_type": "code",
   "execution_count": 15,
   "metadata": {},
   "outputs": [],
   "source": [
    "def file_writer(num,title,body):\n",
    "    filename = '01'+str(num+1)+\".txt\"\n",
    "    file = open(filename,\"w\")\n",
    "    n = file.write(title + \"\\n\\n\"+body )\n",
    "    file.close\n",
    "for i in range(0,3):\n",
    "    file_writer(i,news_titles1[i], bodies[i])"
   ]
  },
  {
   "cell_type": "code",
   "execution_count": null,
   "metadata": {},
   "outputs": [],
   "source": []
  }
 ],
 "metadata": {
  "kernelspec": {
   "display_name": "Python 3",
   "language": "python",
   "name": "python3"
  },
  "language_info": {
   "codemirror_mode": {
    "name": "ipython",
    "version": 3
   },
   "file_extension": ".py",
   "mimetype": "text/x-python",
   "name": "python",
   "nbconvert_exporter": "python",
   "pygments_lexer": "ipython3",
   "version": "3.7.4"
  }
 },
 "nbformat": 4,
 "nbformat_minor": 2
}
