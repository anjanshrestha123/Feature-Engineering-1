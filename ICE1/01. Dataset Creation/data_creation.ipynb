{
 "cells": [
  {
   "cell_type": "code",
   "execution_count": 32,
   "metadata": {},
   "outputs": [],
   "source": [
    "import os\n",
    "import csv"
   ]
  },
  {
   "cell_type": "code",
   "execution_count": 33,
   "metadata": {},
   "outputs": [],
   "source": [
    "path = '../00. Raw dataset/autonomous'\n",
    "folders = os.listdir(path)\n",
    "\n",
    "def read_file(file_name):\n",
    "    f = open(file_name, \"r\")\n",
    "    return f.read()\n",
    "\n",
    "with open('News_dataset.csv', mode='a') as news_dataset_file:\n",
    "    news_dataset_writer = csv.writer(news_dataset_file, delimiter=';', quotechar='\"', quoting=csv.QUOTE_MINIMAL)\n",
    "    news_dataset_writer.writerow(['File_Name', 'Content', 'Category', 'Complete_Filename'])\n",
    "\n",
    "    for folder in list(filter(lambda x: not x.startswith('.') ,folders)):\n",
    "        files = os.listdir(path + '/' + str(folder))\n",
    "        for file in list(filter(lambda x: x.startswith('0') ,files)):\n",
    "            content = read_file(path + '/' + str(folder) + '/' + file)\n",
    "            complete_filename = file + '-' + folder\n",
    "            news_dataset_writer.writerow([file, content, folder ,complete_filename ])\n",
    "\n"
   ]
  },
  {
   "cell_type": "code",
   "execution_count": null,
   "metadata": {},
   "outputs": [],
   "source": []
  }
 ],
 "metadata": {
  "kernelspec": {
   "display_name": "Python 3",
   "language": "python",
   "name": "python3"
  },
  "language_info": {
   "codemirror_mode": {
    "name": "ipython",
    "version": 3
   },
   "file_extension": ".py",
   "mimetype": "text/x-python",
   "name": "python",
   "nbconvert_exporter": "python",
   "pygments_lexer": "ipython3",
   "version": "3.7.4"
  }
 },
 "nbformat": 4,
 "nbformat_minor": 2
}
