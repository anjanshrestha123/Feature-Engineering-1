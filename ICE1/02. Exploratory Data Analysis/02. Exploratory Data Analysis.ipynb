{
 "cells": [
  {
   "cell_type": "markdown",
   "metadata": {},
   "source": [
    "# Exploratory Data Analysis"
   ]
  },
  {
   "cell_type": "markdown",
   "metadata": {},
   "source": [
    "In this notebook we'll do some exploratory data analysis over our dataset. However, since we don't have our features created yet, we cannot do much at this point. In addition, when we create them, we won't be able to extract many insights because of the nature of text-based features. For this reason, only a shallow analysis will be done at this point.\n",
    "\n",
    "For the plots we have used `seaborn` and `altair`. `altair` is a package which allows us to plot graphics with a simple grammar as we would do in ggplot2 or Tableau. It also provides easy-to-make interactive plots. For further information please visit the project site: https://altair-viz.github.io/.\n",
    "\n",
    "To install it, please type this command in the shell:\n",
    "\n",
    "`! conda install -c conda-forge altair vega_datasets notebook vega`"
   ]
  },
  {
   "cell_type": "code",
   "execution_count": 1,
   "metadata": {},
   "outputs": [],
   "source": [
    "import pandas as pd\n",
    "import matplotlib.pyplot as plt\n",
    "import pickle\n",
    "import seaborn as sns\n",
    "sns.set_style(\"whitegrid\")\n",
    "import altair as alt\n",
    "alt.renderers.enable(\"default\")\n",
    "\n",
    "# Code for hiding seaborn warnings\n",
    "import warnings\n",
    "warnings.filterwarnings(\"ignore\")"
   ]
  },
  {
   "cell_type": "markdown",
   "metadata": {},
   "source": [
    "Loading the dataset:"
   ]
  },
  {
   "cell_type": "code",
   "execution_count": 2,
   "metadata": {},
   "outputs": [],
   "source": [
    "df_path = \"../01. Dataset Creation/\"\n",
    "df_path2 = df_path + 'News_dataset.csv'\n",
    "df = pd.read_csv(df_path2, sep=';')"
   ]
  },
  {
   "cell_type": "code",
   "execution_count": 4,
   "metadata": {},
   "outputs": [
    {
     "data": {
      "text/html": [
       "<div>\n",
       "<style scoped>\n",
       "    .dataframe tbody tr th:only-of-type {\n",
       "        vertical-align: middle;\n",
       "    }\n",
       "\n",
       "    .dataframe tbody tr th {\n",
       "        vertical-align: top;\n",
       "    }\n",
       "\n",
       "    .dataframe thead th {\n",
       "        text-align: right;\n",
       "    }\n",
       "</style>\n",
       "<table border=\"1\" class=\"dataframe\">\n",
       "  <thead>\n",
       "    <tr style=\"text-align: right;\">\n",
       "      <th></th>\n",
       "      <th>File_Name</th>\n",
       "      <th>Content</th>\n",
       "      <th>Category</th>\n",
       "      <th>Complete_Filename</th>\n",
       "    </tr>\n",
       "  </thead>\n",
       "  <tbody>\n",
       "    <tr>\n",
       "      <th>0</th>\n",
       "      <td>003.txt</td>\n",
       "      <td>Safety Dividend \\n\\n\\nSince then, Waymo has i...</td>\n",
       "      <td>opportunities</td>\n",
       "      <td>003.txt-opportunities</td>\n",
       "    </tr>\n",
       "    <tr>\n",
       "      <th>1</th>\n",
       "      <td>002.txt</td>\n",
       "      <td>Changing Oil Demand \\n\\n\\nIn 2009, Google sta...</td>\n",
       "      <td>opportunities</td>\n",
       "      <td>002.txt-opportunities</td>\n",
       "    </tr>\n",
       "    <tr>\n",
       "      <th>2</th>\n",
       "      <td>001.txt</td>\n",
       "      <td>Infrastructure Transformation \\n\\n\\nImagine g...</td>\n",
       "      <td>opportunities</td>\n",
       "      <td>001.txt-opportunities</td>\n",
       "    </tr>\n",
       "    <tr>\n",
       "      <th>3</th>\n",
       "      <td>011.txt</td>\n",
       "      <td>Promised solutions, emerging problems\\n\\nMuch ...</td>\n",
       "      <td>opportunities</td>\n",
       "      <td>011.txt-opportunities</td>\n",
       "    </tr>\n",
       "    <tr>\n",
       "      <th>4</th>\n",
       "      <td>012.txt</td>\n",
       "      <td>3 trends are driving investment\\n\\nSo, why do ...</td>\n",
       "      <td>opportunities</td>\n",
       "      <td>012.txt-opportunities</td>\n",
       "    </tr>\n",
       "    <tr>\n",
       "      <th>5</th>\n",
       "      <td>013.txt</td>\n",
       "      <td>The future of transport isn’t simple\\n\\nTransp...</td>\n",
       "      <td>opportunities</td>\n",
       "      <td>013.txt-opportunities</td>\n",
       "    </tr>\n",
       "    <tr>\n",
       "      <th>6</th>\n",
       "      <td>003.txt</td>\n",
       "      <td>5. Radar Interference\\n\\nAutonomous cars use l...</td>\n",
       "      <td>challenges</td>\n",
       "      <td>003.txt-challenges</td>\n",
       "    </tr>\n",
       "    <tr>\n",
       "      <th>7</th>\n",
       "      <td>002.txt</td>\n",
       "      <td>4. Accident Liability\\n\\nThe most important as...</td>\n",
       "      <td>challenges</td>\n",
       "      <td>002.txt-challenges</td>\n",
       "    </tr>\n",
       "    <tr>\n",
       "      <th>8</th>\n",
       "      <td>014.txt</td>\n",
       "      <td>4. Regulation\\n\\nSufficient standards and regu...</td>\n",
       "      <td>challenges</td>\n",
       "      <td>014.txt-challenges</td>\n",
       "    </tr>\n",
       "    <tr>\n",
       "      <th>9</th>\n",
       "      <td>001.txt</td>\n",
       "      <td>3. Traffic conditions\\n\\nAutonomous cars would...</td>\n",
       "      <td>challenges</td>\n",
       "      <td>001.txt-challenges</td>\n",
       "    </tr>\n",
       "    <tr>\n",
       "      <th>10</th>\n",
       "      <td>015.txt</td>\n",
       "      <td>5. Social acceptability\\n\\nThere have been num...</td>\n",
       "      <td>challenges</td>\n",
       "      <td>015.txt-challenges</td>\n",
       "    </tr>\n",
       "    <tr>\n",
       "      <th>11</th>\n",
       "      <td>011.txt</td>\n",
       "      <td>1. Sensors\\n\\nAutonomous cars use a broad set ...</td>\n",
       "      <td>challenges</td>\n",
       "      <td>011.txt-challenges</td>\n",
       "    </tr>\n",
       "    <tr>\n",
       "      <th>12</th>\n",
       "      <td>012.txt</td>\n",
       "      <td>2. Machine learning\\n\\nMost autonomous vehicle...</td>\n",
       "      <td>challenges</td>\n",
       "      <td>012.txt-challenges</td>\n",
       "    </tr>\n",
       "    <tr>\n",
       "      <th>13</th>\n",
       "      <td>013.txt</td>\n",
       "      <td>3. The open road\\n\\nOnce an autonomous car is ...</td>\n",
       "      <td>challenges</td>\n",
       "      <td>013.txt-challenges</td>\n",
       "    </tr>\n",
       "  </tbody>\n",
       "</table>\n",
       "</div>"
      ],
      "text/plain": [
       "   File_Name                                            Content  \\\n",
       "0    003.txt   Safety Dividend \\n\\n\\nSince then, Waymo has i...   \n",
       "1    002.txt   Changing Oil Demand \\n\\n\\nIn 2009, Google sta...   \n",
       "2    001.txt   Infrastructure Transformation \\n\\n\\nImagine g...   \n",
       "3    011.txt  Promised solutions, emerging problems\\n\\nMuch ...   \n",
       "4    012.txt  3 trends are driving investment\\n\\nSo, why do ...   \n",
       "5    013.txt  The future of transport isn’t simple\\n\\nTransp...   \n",
       "6    003.txt  5. Radar Interference\\n\\nAutonomous cars use l...   \n",
       "7    002.txt  4. Accident Liability\\n\\nThe most important as...   \n",
       "8    014.txt  4. Regulation\\n\\nSufficient standards and regu...   \n",
       "9    001.txt  3. Traffic conditions\\n\\nAutonomous cars would...   \n",
       "10   015.txt  5. Social acceptability\\n\\nThere have been num...   \n",
       "11   011.txt  1. Sensors\\n\\nAutonomous cars use a broad set ...   \n",
       "12   012.txt  2. Machine learning\\n\\nMost autonomous vehicle...   \n",
       "13   013.txt  3. The open road\\n\\nOnce an autonomous car is ...   \n",
       "\n",
       "         Category      Complete_Filename  \n",
       "0   opportunities  003.txt-opportunities  \n",
       "1   opportunities  002.txt-opportunities  \n",
       "2   opportunities  001.txt-opportunities  \n",
       "3   opportunities  011.txt-opportunities  \n",
       "4   opportunities  012.txt-opportunities  \n",
       "5   opportunities  013.txt-opportunities  \n",
       "6      challenges     003.txt-challenges  \n",
       "7      challenges     002.txt-challenges  \n",
       "8      challenges     014.txt-challenges  \n",
       "9      challenges     001.txt-challenges  \n",
       "10     challenges     015.txt-challenges  \n",
       "11     challenges     011.txt-challenges  \n",
       "12     challenges     012.txt-challenges  \n",
       "13     challenges     013.txt-challenges  "
      ]
     },
     "execution_count": 4,
     "metadata": {},
     "output_type": "execute_result"
    }
   ],
   "source": [
    "df.head()"
   ]
  },
  {
   "cell_type": "markdown",
   "metadata": {},
   "source": [
    "### Number of articles in each category"
   ]
  },
  {
   "cell_type": "code",
   "execution_count": 5,
   "metadata": {
    "scrolled": false
   },
   "outputs": [
    {
     "data": {
      "text/html": [
       "\n",
       "<div id=\"altair-viz-81b90d756cd34c04bb764260e96e14c2\"></div>\n",
       "<script type=\"text/javascript\">\n",
       "  (function(spec, embedOpt){\n",
       "    let outputDiv = document.currentScript.previousElementSibling;\n",
       "    if (outputDiv.id !== \"altair-viz-81b90d756cd34c04bb764260e96e14c2\") {\n",
       "      outputDiv = document.getElementById(\"altair-viz-81b90d756cd34c04bb764260e96e14c2\");\n",
       "    }\n",
       "    const paths = {\n",
       "      \"vega\": \"https://cdn.jsdelivr.net/npm//vega@5?noext\",\n",
       "      \"vega-lib\": \"https://cdn.jsdelivr.net/npm//vega-lib?noext\",\n",
       "      \"vega-lite\": \"https://cdn.jsdelivr.net/npm//vega-lite@4.8.1?noext\",\n",
       "      \"vega-embed\": \"https://cdn.jsdelivr.net/npm//vega-embed@6?noext\",\n",
       "    };\n",
       "\n",
       "    function loadScript(lib) {\n",
       "      return new Promise(function(resolve, reject) {\n",
       "        var s = document.createElement('script');\n",
       "        s.src = paths[lib];\n",
       "        s.async = true;\n",
       "        s.onload = () => resolve(paths[lib]);\n",
       "        s.onerror = () => reject(`Error loading script: ${paths[lib]}`);\n",
       "        document.getElementsByTagName(\"head\")[0].appendChild(s);\n",
       "      });\n",
       "    }\n",
       "\n",
       "    function showError(err) {\n",
       "      outputDiv.innerHTML = `<div class=\"error\" style=\"color:red;\">${err}</div>`;\n",
       "      throw err;\n",
       "    }\n",
       "\n",
       "    function displayChart(vegaEmbed) {\n",
       "      vegaEmbed(outputDiv, spec, embedOpt)\n",
       "        .catch(err => showError(`Javascript Error: ${err.message}<br>This usually means there's a typo in your chart specification. See the javascript console for the full traceback.`));\n",
       "    }\n",
       "\n",
       "    if(typeof define === \"function\" && define.amd) {\n",
       "      requirejs.config({paths});\n",
       "      require([\"vega-embed\"], displayChart, err => showError(`Error loading script: ${err.message}`));\n",
       "    } else if (typeof vegaEmbed === \"function\") {\n",
       "      displayChart(vegaEmbed);\n",
       "    } else {\n",
       "      loadScript(\"vega\")\n",
       "        .then(() => loadScript(\"vega-lite\"))\n",
       "        .then(() => loadScript(\"vega-embed\"))\n",
       "        .catch(showError)\n",
       "        .then(() => displayChart(vegaEmbed));\n",
       "    }\n",
       "  })({\"config\": {\"view\": {\"continuousWidth\": 400, \"continuousHeight\": 300}}, \"layer\": [{\"mark\": {\"type\": \"bar\", \"size\": 50}, \"encoding\": {\"color\": {\"type\": \"nominal\", \"field\": \"Category\"}, \"tooltip\": [{\"type\": \"quantitative\", \"aggregate\": \"count\", \"title\": \"Number of articles\"}, {\"type\": \"nominal\", \"field\": \"Category\"}], \"x\": {\"type\": \"nominal\", \"field\": \"Category\"}, \"y\": {\"type\": \"quantitative\", \"aggregate\": \"count\", \"axis\": {\"title\": \"Number of articles\"}}}, \"selection\": {\"selector001\": {\"type\": \"interval\", \"bind\": \"scales\", \"encodings\": [\"x\", \"y\"]}}}, {\"mark\": {\"type\": \"text\", \"align\": \"center\", \"baseline\": \"bottom\"}, \"encoding\": {\"color\": {\"type\": \"nominal\", \"field\": \"Category\"}, \"text\": {\"type\": \"quantitative\", \"aggregate\": \"count\"}, \"tooltip\": [{\"type\": \"quantitative\", \"aggregate\": \"count\", \"title\": \"Number of articles\"}, {\"type\": \"nominal\", \"field\": \"Category\"}], \"x\": {\"type\": \"nominal\", \"field\": \"Category\"}, \"y\": {\"type\": \"quantitative\", \"aggregate\": \"count\", \"axis\": {\"title\": \"Number of articles\"}}}}], \"data\": {\"name\": \"data-a4cab6dc220b4f4ffa3aa015527712d8\"}, \"height\": 300, \"title\": \"Number of articles in each category\", \"width\": 700, \"$schema\": \"https://vega.github.io/schema/vega-lite/v4.8.1.json\", \"datasets\": {\"data-a4cab6dc220b4f4ffa3aa015527712d8\": [{\"File_Name\": \"003.txt\", \"Content\": \" Safety Dividend \\n\\n\\nSince then, Waymo has invited the public to join the first public trial of autonomous vehicles operated by the Waymo Driver and introduced its first fully autonomous vehicles operated by the Waymo Driver on public roads without anyone in the driver\\u2019s seat.\\n\", \"Category\": \"opportunities\", \"Complete_Filename\": \"003.txt-opportunities\"}, {\"File_Name\": \"002.txt\", \"Content\": \" Changing Oil Demand \\n\\n\\nIn 2009, Google started the self-driving car project with the goal of driving autonomously over ten uninterrupted 100-mile routes. In 2016, Waymo, an autonomous driving technology company, became a subsidiary of Alphabet, and Google's self-driving project became Waymo.\\n\", \"Category\": \"opportunities\", \"Complete_Filename\": \"002.txt-opportunities\"}, {\"File_Name\": \"001.txt\", \"Content\": \" Infrastructure Transformation \\n\\n\\nImagine getting into your car, typing\\u2014or, better yet speaking\\u2014a location into your vehicle\\u2019s interface, then letting it drive you to your destination while you read a book, surf the web, or nap. Self-driving vehicles\\u2014the stuff of science fiction since the first roads were paved\\u2014are coming, and they\\u2019re going to radically change what it\\u2019s like to get from point A to point B.\\n\", \"Category\": \"opportunities\", \"Complete_Filename\": \"001.txt-opportunities\"}, {\"File_Name\": \"011.txt\", \"Content\": \"Promised solutions, emerging problems\\n\\nMuch of the interest in mobility technology is coming from individuals outside the transport arena. Startups are attracting investors by claiming their technology will solve many of our transport problems. Micromobility companies believe their e-scooters and e-bikes will solve the \\u201cfirst-mile last-mile\\u201d problem by enabling people to move quickly and easily between their homes or workplaces and a bus or rail station. While this might work in theory, it depends on having safe and segregated bicycle networks and frequent and widely accessible public transport services. Ride-hailing services might relieve people of the need to own a car. But there is evidence to suggest these services are adding to traffic congestion. That\\u2019s because, unlike taxis, more of their time on the road involves travelling without any passengers.Navigation tools (Google Maps, Apple Maps, Waze) have been around longer than most other mobility technologies and are meant make it easier to find the least-congested route for any given trip. However, research suggests these tools might not be working as intended. The backlash against them is growing in some cities because traffic is being directed onto neighbourhood streets rather than arterial roads.Autonomous vehicles have the goal of reducing injuries and deaths from car crashes. Only a few years ago many bold predictions were being made that these self-driving vehicles would be having positive impacts by now, but this hasn\\u2019t happened. The enthusiasm for autonomous vehicles has cooled. Some now believe we won\\u2019t see many of the social benefits for decades. \\n  \\n    \\n      Read more:\\n      How we feel about our cars means the road to a driverless future may not be smooth\\n    \\n  \\nThe final mobility tech area is known as mobility as a service (MAAS). It\\u2019s basically a platform designed to make better use of existing infrastructure and transport modes. MAAS begins with a journey planner that is linked to one-stop payment for a range of mobility services \\u2013 ride-hailing, e-scooters, e-bikes, taxis, public transport, and so on. MAAS is the newest entrant in the mobility tech field. It has attracted US$6.8 billion to date, but is expected to grow to over US$100 billion by 2030. This idea is creating great enthusiasm, not only among private entrepreneurs, but also in the public sector. It\\u2019s too early to know whether it will improve transportation.\", \"Category\": \"opportunities\", \"Complete_Filename\": \"011.txt-opportunities\"}, {\"File_Name\": \"012.txt\", \"Content\": \"3 trends are driving investment\\n\\nSo, why do venture capitalists continue to show so much interest in mobility technology startups despite poor company performance to date? It appears they believe personal mobility will become increasingly important. Three trends support this belief.First, urban dwellers increasingly value the ability to move around easily. It\\u2019s thought to be a key ingredient for a liveable city. The problem is public transport is often not very good, particularly in the US and in outer suburbs in Australia. This is due to historically low funding relative to roads. The prospect of more funding and better public transport services in the future is not good. In part that\\u2019s because many view public transport as welfare and not an essential public service. Thus, if cities want to become more liveable and competitive, they must look beyond government-funded public transport for other mobility alternatives. \\n  \\n    \\n      Read more:\\n      To bolster our fragile road and rail system we need to add a 'micro-mobility' network\\n    \\n  \\nThe second trend is declining vehicle ownership. Since 1986 US sales of car and light trucks per capita have dropped by almost 30%. In Australia, new car sales remained relatively constant over the past decade, but a decline since 2017 is expected to continue. These trends are due in part to the cost of owning a vehicle, but also because of a growing view that owning a car may not be necessary.This brings us to the third trend, which involves demographics and the post-millennial desire for access to mobility services rather than vehicle ownership.\\n  \\n    \\n      Read more:\\n      We subscribe to movies and music, why not transport?\\n    \\n  \\nThese trends, combined with expectations of an upward trend in prices of these services, suggests there may be good times ahead for ride-hailing and micromobility companies. It also means venture capital funding for these startups will not be diminishing in the near future.\", \"Category\": \"opportunities\", \"Complete_Filename\": \"012.txt-opportunities\"}, {\"File_Name\": \"013.txt\", \"Content\": \"The future of transport isn\\u2019t simple\\n\\nTransport systems are multifaceted. No one single app or technology will solve the challenges. And, as we are discovering, some of the purported solutions to problems might actually be making the situation worse. If the goal is to get people out of their cars (for better health and quality of life and a better environment), this will require more than a technology. Better infrastructure and public policies (including better integration of land uses and transport to reduce the need for transport) will be required \\u2013 congestion pricing being one of those.That is not to say technological innovations are not welcome as part of the solution, but they are just that \\u2026 \\u201cpart\\u201d of the solution.\", \"Category\": \"opportunities\", \"Complete_Filename\": \"013.txt-opportunities\"}, {\"File_Name\": \"003.txt\", \"Content\": \"5. Radar Interference\\n\\nAutonomous cars use lasers and radar for navigation. The lasers are mounted on roof top while the sensors are mounted on the body of the vehicle. The principle of radar works by detecting reflections of radio waves from surrounding objects. When on the road, a car will continuously emit radio frequency waves, which get reflected from the surrounding cars and other objects near the road. The time taken for the reflection is measured to calculate the distance between the car and the object. Appropriate action is then taken based on the radar readings. The principle of radar works by detecting reflections of radio waves from surrounding objects. When on the road, a car will continuously emit radio frequency waves, which get reflected from the surrounding cars and other objects near the road. The time taken for the reflection is measured to calculate the distance between the car and the object. Appropriate action is then taken based on the radar readings. When this technology is used for hundreds of vehicles on the road, will a car be able to distinguish between its own (reflected) signal and the signal (reflected or transmitted) from another vehicle? Even if multiple radio frequencies are available for radar, this frequency range is unlikely to be insufficient for all the vehicles manufactured.\", \"Category\": \"challenges\", \"Complete_Filename\": \"003.txt-challenges\"}, {\"File_Name\": \"002.txt\", \"Content\": \"4. Accident Liability\\n\\nThe most important aspect of autonomous cars is accidents liability. Who is liable for accidents caused by a self-driving car? In the case of autonomous cars, the software will be the main component that will drive the car and will make all the important decisions. While the initial designs have a person physically placed behind the steering wheel, newer designs showcased by Google, do not have a dashboard and a steering wheel! In such designs, where the car does not have any controls like a steering wheel, a brake pedal, an accelerator pedal, how is the person in the car supposed to control the car in case of an untoward incident? Additionally, due to the nature of autonomous cars, the occupants will mostly be in a relaxed state and may not be paying close attention to the traffic conditions. In situations where their attention is needed, by the time they need to act, it may be too late to avert the situation.\", \"Category\": \"challenges\", \"Complete_Filename\": \"002.txt-challenges\"}, {\"File_Name\": \"014.txt\", \"Content\": \"4. Regulation\\n\\nSufficient standards and regulations for a whole autonomous system do not exist - in any industry. Current standards for the safety of existing vehicles assume the presence of a human driver to take over in an emergency. For self-driving cars, there are emerging regulations for particular functions, such as for automated lane keeping systems. There is also an international standard for autonomous systems that includes autonomous vehicles, which sets relevant requirements but does not solve the problems of sensors, machine learning and operational learning introduced above - although it may in time.Without recognised regulations and standards, no self-driving car, whether considered to be safe or not, will make it on to the open road.\", \"Category\": \"challenges\", \"Complete_Filename\": \"014.txt-challenges\"}, {\"File_Name\": \"001.txt\", \"Content\": \"3. Traffic conditions\\n\\nAutonomous cars would have to get onto the road where they would have to drive in all sorts of traffic conditions. They would have to drive with other autonomous cars on the road, and at the same time, there would also be a lot of humans. Wherever humans are involved, there are involved a lot of emotions. Traffic could be highly moderated and self-regulated. But often there are cases where people may be breaking traffic rules. An object may turn up in unexpected conditions. In the case of dense traffic, even the movement of few cms per minute does matter. One can\\u2019t wait endlessly for traffic to automatically clear and have some precondition to start moving. If more of such cars on the road are waiting for traffic to get cleared, ultimately that may result in a traffic deadlock.\", \"Category\": \"challenges\", \"Complete_Filename\": \"001.txt-challenges\"}, {\"File_Name\": \"015.txt\", \"Content\": \"5. Social acceptability\\n\\nThere have been numerous high-profile accidents involving Tesla\\u2019s current automated cars, as well as with other automated and autonomous vehicles. Social acceptability is not just an issue for those wishing to buy a self-driving car, but also for others sharing the road with them. The public needs to be involved in decisions about the introduction and adoption of self-driving vehicles. Without this, we risk the rejection of this technology.The first three of these challenges must be solved to help us overcome the latter two. There is, of course, a race to be the first company to introduce a fully self-driving car. But without collaboration on how we make the car safe, provide evidence of that safety, and work with regulators and the public to get a \\u201cstamp of approval\\u201d these cars will remain on the test track for years to come. Unpalatable as it may be to entrepreneurs such as Musk, the road to getting autonomous vehicles approved is through lengthy collaboration on these hard problems around safety, assurance, regulation and acceptance.\", \"Category\": \"challenges\", \"Complete_Filename\": \"015.txt-challenges\"}, {\"File_Name\": \"011.txt\", \"Content\": \"1. Sensors\\n\\nAutonomous cars use a broad set of sensors to \\u201csee\\u201d the environment around them, helping to detect objects such as pedestrians, other vehicles and road signs. Cameras help the car to view objects. Lidar uses lasers to measure the distance between objects and the vehicle. Radar detects objects and tracks their speed and direction. These sensors all feed data back to the car\\u2019s control system or computer to help it make decisions about where to steer or when to brake. A fully autonomous car needs a set of sensors that accurately detect objects, distance, speed and so on under all conditions and environments, without a human needing to intervene. Lousy weather, heavy traffic, roads signs with graffiti on them can all negatively impact the accuracy of sensing capability. Radar, which Tesla uses, is less susceptible to adverse weather conditions, but challenges remain in ensuring that the chosen sensors used in a fully autonomous car can detect all objects with the required level of certainty for them to be safe. To enable truly autonomous cars, these sensors have to work in all weather conditions anywhere on the planet, from Alaska to Zanzibar and in congested cities such as Cairo and Hanoi. Accidents with Tesla\\u2019s current (only level 2) \\u201cautopilot\\u201d, including one in July 2020 hitting parked vehicles, show the company has a big gap to overcome to produce such a global, all-weather capability.\", \"Category\": \"challenges\", \"Complete_Filename\": \"011.txt-challenges\"}, {\"File_Name\": \"012.txt\", \"Content\": \"2. Machine learning\\n\\nMost autonomous vehicles will use artificial intelligence and machine learning to process the data that comes from its sensors and to help make the decisions about its next actions. These algorithms will help identify the objects detected by the sensors and classify them, according to the system\\u2019s training, as a pedestrian, a street light, and so on. The car will then use this information to help decide whether the car needs to take action, such as braking or swerving, to avoid a detected object.In the future, machines will be able to do this detection and classification more efficiently than a human driver can. But at the moment there is no widely accepted and agreed basis for ensuring that the machine learning algorithms used in the cars are safe. We do not have agreement across the industry, or across standardisation bodies, on how machine learning should be trained, tested or validated.\", \"Category\": \"challenges\", \"Complete_Filename\": \"012.txt-challenges\"}, {\"File_Name\": \"013.txt\", \"Content\": \"3. The open road\\n\\nOnce an autonomous car is on the road it will continue to learn. It will drive on new roads, detect objects it hasn\\u2019t come across in its training, and be subject to software updates. How can we ensure that the system continues to be just as safe as its previous version? We need to be able to show that any new learning is safe and that the system doesn\\u2019t forget previously safe behaviours, something the industry has yet to reach agreement on.\", \"Category\": \"challenges\", \"Complete_Filename\": \"013.txt-challenges\"}]}}, {\"mode\": \"vega-lite\"});\n",
       "</script>"
      ],
      "text/plain": [
       "alt.LayerChart(...)"
      ]
     },
     "execution_count": 5,
     "metadata": {},
     "output_type": "execute_result"
    }
   ],
   "source": [
    "bars = alt.Chart(df).mark_bar(size=50).encode(\n",
    "    x=alt.X(\"Category\"),\n",
    "    y=alt.Y(\"count():Q\", axis=alt.Axis(title='Number of articles')),\n",
    "    tooltip=[alt.Tooltip('count()', title='Number of articles'), 'Category'],\n",
    "    color='Category'\n",
    "\n",
    ")\n",
    "\n",
    "text = bars.mark_text(\n",
    "    align='center',\n",
    "    baseline='bottom',\n",
    ").encode(\n",
    "    text='count()'\n",
    ")\n",
    "\n",
    "(bars + text).interactive().properties(\n",
    "    height=300, \n",
    "    width=700,\n",
    "    title = \"Number of articles in each category\",\n",
    ")"
   ]
  },
  {
   "cell_type": "markdown",
   "metadata": {},
   "source": [
    "### % of articles in each category"
   ]
  },
  {
   "cell_type": "code",
   "execution_count": 6,
   "metadata": {},
   "outputs": [
    {
     "data": {
      "text/html": [
       "\n",
       "<div id=\"altair-viz-8cf60d7ce18e435ab2f3616c91c4d2bf\"></div>\n",
       "<script type=\"text/javascript\">\n",
       "  (function(spec, embedOpt){\n",
       "    let outputDiv = document.currentScript.previousElementSibling;\n",
       "    if (outputDiv.id !== \"altair-viz-8cf60d7ce18e435ab2f3616c91c4d2bf\") {\n",
       "      outputDiv = document.getElementById(\"altair-viz-8cf60d7ce18e435ab2f3616c91c4d2bf\");\n",
       "    }\n",
       "    const paths = {\n",
       "      \"vega\": \"https://cdn.jsdelivr.net/npm//vega@5?noext\",\n",
       "      \"vega-lib\": \"https://cdn.jsdelivr.net/npm//vega-lib?noext\",\n",
       "      \"vega-lite\": \"https://cdn.jsdelivr.net/npm//vega-lite@4.8.1?noext\",\n",
       "      \"vega-embed\": \"https://cdn.jsdelivr.net/npm//vega-embed@6?noext\",\n",
       "    };\n",
       "\n",
       "    function loadScript(lib) {\n",
       "      return new Promise(function(resolve, reject) {\n",
       "        var s = document.createElement('script');\n",
       "        s.src = paths[lib];\n",
       "        s.async = true;\n",
       "        s.onload = () => resolve(paths[lib]);\n",
       "        s.onerror = () => reject(`Error loading script: ${paths[lib]}`);\n",
       "        document.getElementsByTagName(\"head\")[0].appendChild(s);\n",
       "      });\n",
       "    }\n",
       "\n",
       "    function showError(err) {\n",
       "      outputDiv.innerHTML = `<div class=\"error\" style=\"color:red;\">${err}</div>`;\n",
       "      throw err;\n",
       "    }\n",
       "\n",
       "    function displayChart(vegaEmbed) {\n",
       "      vegaEmbed(outputDiv, spec, embedOpt)\n",
       "        .catch(err => showError(`Javascript Error: ${err.message}<br>This usually means there's a typo in your chart specification. See the javascript console for the full traceback.`));\n",
       "    }\n",
       "\n",
       "    if(typeof define === \"function\" && define.amd) {\n",
       "      requirejs.config({paths});\n",
       "      require([\"vega-embed\"], displayChart, err => showError(`Error loading script: ${err.message}`));\n",
       "    } else if (typeof vegaEmbed === \"function\") {\n",
       "      displayChart(vegaEmbed);\n",
       "    } else {\n",
       "      loadScript(\"vega\")\n",
       "        .then(() => loadScript(\"vega-lite\"))\n",
       "        .then(() => loadScript(\"vega-embed\"))\n",
       "        .catch(showError)\n",
       "        .then(() => displayChart(vegaEmbed));\n",
       "    }\n",
       "  })({\"config\": {\"view\": {\"continuousWidth\": 400, \"continuousHeight\": 300}}, \"layer\": [{\"mark\": {\"type\": \"bar\", \"size\": 50}, \"encoding\": {\"color\": {\"type\": \"nominal\", \"field\": \"Category\"}, \"x\": {\"type\": \"nominal\", \"field\": \"Category\"}, \"y\": {\"type\": \"quantitative\", \"axis\": {\"format\": \".0%\", \"title\": \"% of Articles\"}, \"field\": \"PercentOfTotal\"}}, \"selection\": {\"selector002\": {\"type\": \"interval\", \"bind\": \"scales\", \"encodings\": [\"x\", \"y\"]}}, \"transform\": [{\"window\": [{\"op\": \"sum\", \"field\": \"id\", \"as\": \"TotalArticles\"}], \"frame\": [null, null]}, {\"calculate\": \"datum.id / datum.TotalArticles\", \"as\": \"PercentOfTotal\"}]}, {\"mark\": {\"type\": \"text\", \"align\": \"center\", \"baseline\": \"bottom\"}, \"encoding\": {\"color\": {\"type\": \"nominal\", \"field\": \"Category\"}, \"text\": {\"type\": \"quantitative\", \"field\": \"PercentOfTotal\", \"format\": \".1%\"}, \"x\": {\"type\": \"nominal\", \"field\": \"Category\"}, \"y\": {\"type\": \"quantitative\", \"axis\": {\"format\": \".0%\", \"title\": \"% of Articles\"}, \"field\": \"PercentOfTotal\"}}, \"transform\": [{\"window\": [{\"op\": \"sum\", \"field\": \"id\", \"as\": \"TotalArticles\"}], \"frame\": [null, null]}, {\"calculate\": \"datum.id / datum.TotalArticles\", \"as\": \"PercentOfTotal\"}]}], \"data\": {\"name\": \"data-7e38bcac0f2875d3cc29f10292c6b732\"}, \"height\": 300, \"title\": \"% of articles in each category\", \"width\": 700, \"$schema\": \"https://vega.github.io/schema/vega-lite/v4.8.1.json\", \"datasets\": {\"data-7e38bcac0f2875d3cc29f10292c6b732\": [{\"Category\": \"challenges\", \"id\": 8}, {\"Category\": \"opportunities\", \"id\": 6}]}}, {\"mode\": \"vega-lite\"});\n",
       "</script>"
      ],
      "text/plain": [
       "alt.LayerChart(...)"
      ]
     },
     "execution_count": 6,
     "metadata": {},
     "output_type": "execute_result"
    }
   ],
   "source": [
    "df['id'] = 1\n",
    "df2 = pd.DataFrame(df.groupby('Category').count()['id']).reset_index()\n",
    "\n",
    "bars = alt.Chart(df2).mark_bar(size=50).encode(\n",
    "    x=alt.X('Category'),\n",
    "    y=alt.Y('PercentOfTotal:Q', axis=alt.Axis(format='.0%', title='% of Articles')),\n",
    "    color='Category'\n",
    ").transform_window(\n",
    "    TotalArticles='sum(id)',\n",
    "    frame=[None, None]\n",
    ").transform_calculate(\n",
    "    PercentOfTotal=\"datum.id / datum.TotalArticles\"\n",
    ")\n",
    "\n",
    "text = bars.mark_text(\n",
    "    align='center',\n",
    "    baseline='bottom',\n",
    "    #dx=5  # Nudges text to right so it doesn't appear on top of the bar\n",
    ").encode(\n",
    "    text=alt.Text('PercentOfTotal:Q', format='.1%')\n",
    ")\n",
    "\n",
    "(bars + text).interactive().properties(\n",
    "    height=300, \n",
    "    width=700,\n",
    "    title = \"% of articles in each category\",\n",
    ")"
   ]
  },
  {
   "cell_type": "markdown",
   "metadata": {},
   "source": [
    "The classes are approximately balanced. We'll first try to train the models without oversampling/undersampling. If we see some bias in the model, we'll use these techniques."
   ]
  },
  {
   "cell_type": "markdown",
   "metadata": {},
   "source": [
    "### News length by category"
   ]
  },
  {
   "cell_type": "markdown",
   "metadata": {},
   "source": [
    "Definition of news length field. Although there are special characters in the text (``\\r, \\n``), it will be useful as an approximation."
   ]
  },
  {
   "cell_type": "code",
   "execution_count": 7,
   "metadata": {},
   "outputs": [],
   "source": [
    "df['News_length'] = df['Content'].str.len()"
   ]
  },
  {
   "cell_type": "code",
   "execution_count": 8,
   "metadata": {},
   "outputs": [
    {
     "data": {
      "text/html": [
       "<div>\n",
       "<style scoped>\n",
       "    .dataframe tbody tr th:only-of-type {\n",
       "        vertical-align: middle;\n",
       "    }\n",
       "\n",
       "    .dataframe tbody tr th {\n",
       "        vertical-align: top;\n",
       "    }\n",
       "\n",
       "    .dataframe thead th {\n",
       "        text-align: right;\n",
       "    }\n",
       "</style>\n",
       "<table border=\"1\" class=\"dataframe\">\n",
       "  <thead>\n",
       "    <tr style=\"text-align: right;\">\n",
       "      <th></th>\n",
       "      <th>File_Name</th>\n",
       "      <th>Content</th>\n",
       "      <th>Category</th>\n",
       "      <th>Complete_Filename</th>\n",
       "      <th>id</th>\n",
       "      <th>News_length</th>\n",
       "    </tr>\n",
       "  </thead>\n",
       "  <tbody>\n",
       "    <tr>\n",
       "      <th>0</th>\n",
       "      <td>003.txt</td>\n",
       "      <td>Safety Dividend \\n\\n\\nSince then, Waymo has i...</td>\n",
       "      <td>opportunities</td>\n",
       "      <td>003.txt-opportunities</td>\n",
       "      <td>1</td>\n",
       "      <td>277</td>\n",
       "    </tr>\n",
       "    <tr>\n",
       "      <th>1</th>\n",
       "      <td>002.txt</td>\n",
       "      <td>Changing Oil Demand \\n\\n\\nIn 2009, Google sta...</td>\n",
       "      <td>opportunities</td>\n",
       "      <td>002.txt-opportunities</td>\n",
       "      <td>1</td>\n",
       "      <td>294</td>\n",
       "    </tr>\n",
       "    <tr>\n",
       "      <th>2</th>\n",
       "      <td>001.txt</td>\n",
       "      <td>Infrastructure Transformation \\n\\n\\nImagine g...</td>\n",
       "      <td>opportunities</td>\n",
       "      <td>001.txt-opportunities</td>\n",
       "      <td>1</td>\n",
       "      <td>410</td>\n",
       "    </tr>\n",
       "    <tr>\n",
       "      <th>3</th>\n",
       "      <td>011.txt</td>\n",
       "      <td>Promised solutions, emerging problems\\n\\nMuch ...</td>\n",
       "      <td>opportunities</td>\n",
       "      <td>011.txt-opportunities</td>\n",
       "      <td>1</td>\n",
       "      <td>2434</td>\n",
       "    </tr>\n",
       "    <tr>\n",
       "      <th>4</th>\n",
       "      <td>012.txt</td>\n",
       "      <td>3 trends are driving investment\\n\\nSo, why do ...</td>\n",
       "      <td>opportunities</td>\n",
       "      <td>012.txt-opportunities</td>\n",
       "      <td>1</td>\n",
       "      <td>1978</td>\n",
       "    </tr>\n",
       "  </tbody>\n",
       "</table>\n",
       "</div>"
      ],
      "text/plain": [
       "  File_Name                                            Content       Category  \\\n",
       "0   003.txt   Safety Dividend \\n\\n\\nSince then, Waymo has i...  opportunities   \n",
       "1   002.txt   Changing Oil Demand \\n\\n\\nIn 2009, Google sta...  opportunities   \n",
       "2   001.txt   Infrastructure Transformation \\n\\n\\nImagine g...  opportunities   \n",
       "3   011.txt  Promised solutions, emerging problems\\n\\nMuch ...  opportunities   \n",
       "4   012.txt  3 trends are driving investment\\n\\nSo, why do ...  opportunities   \n",
       "\n",
       "       Complete_Filename  id  News_length  \n",
       "0  003.txt-opportunities   1          277  \n",
       "1  002.txt-opportunities   1          294  \n",
       "2  001.txt-opportunities   1          410  \n",
       "3  011.txt-opportunities   1         2434  \n",
       "4  012.txt-opportunities   1         1978  "
      ]
     },
     "execution_count": 8,
     "metadata": {},
     "output_type": "execute_result"
    }
   ],
   "source": [
    "df.head()"
   ]
  },
  {
   "cell_type": "code",
   "execution_count": 9,
   "metadata": {},
   "outputs": [
    {
     "data": {
      "image/png": "[encoded data removed]",
      "text/plain": [
       "<Figure size 921.6x432 with 1 Axes>"
      ]
     },
     "metadata": {},
     "output_type": "display_data"
    }
   ],
   "source": [
    "plt.figure(figsize=(12.8,6))\n",
    "sns.distplot(df['News_length']).set_title('News length distribution');"
   ]
  },
  {
   "cell_type": "code",
   "execution_count": 10,
   "metadata": {},
   "outputs": [
    {
     "data": {
      "text/plain": [
       "count      14.000000\n",
       "mean      989.857143\n",
       "std       628.874068\n",
       "min       277.000000\n",
       "25%       529.000000\n",
       "50%       867.500000\n",
       "75%      1270.500000\n",
       "max      2434.000000\n",
       "Name: News_length, dtype: float64"
      ]
     },
     "execution_count": 10,
     "metadata": {},
     "output_type": "execute_result"
    }
   ],
   "source": [
    "df['News_length'].describe()"
   ]
  },
  {
   "cell_type": "markdown",
   "metadata": {},
   "source": [
    "Let's remove from the 95% percentile onwards to better appreciate the histogram:"
   ]
  },
  {
   "cell_type": "code",
   "execution_count": 11,
   "metadata": {},
   "outputs": [],
   "source": [
    "quantile_95 = df['News_length'].quantile(0.95)\n",
    "df_95 = df[df['News_length'] < quantile_95]"
   ]
  },
  {
   "cell_type": "code",
   "execution_count": 12,
   "metadata": {},
   "outputs": [
    {
     "data": {
      "image/png": "[encoded data removed]",
      "text/plain": [
       "<Figure size 921.6x432 with 1 Axes>"
      ]
     },
     "metadata": {},
     "output_type": "display_data"
    }
   ],
   "source": [
    "plt.figure(figsize=(12.8,6))\n",
    "sns.distplot(df_95['News_length']).set_title('News length distribution');"
   ]
  },
  {
   "cell_type": "markdown",
   "metadata": {},
   "source": [
    "We can get the number of news articles with more than 10,000 characters:"
   ]
  },
  {
   "cell_type": "code",
   "execution_count": 14,
   "metadata": {},
   "outputs": [
    {
     "data": {
      "text/plain": [
       "5"
      ]
     },
     "execution_count": 14,
     "metadata": {},
     "output_type": "execute_result"
    }
   ],
   "source": [
    "df_more10k = df[df['News_length'] > 1000]\n",
    "len(df_more10k)"
   ]
  },
  {
   "cell_type": "markdown",
   "metadata": {},
   "source": [
    "Let's see one:"
   ]
  },
  {
   "cell_type": "code",
   "execution_count": 15,
   "metadata": {
    "scrolled": false
   },
   "outputs": [
    {
     "data": {
      "text/plain": [
       "'Promised solutions, emerging problems\\n\\nMuch of the interest in mobility technology is coming from individuals outside the transport arena. Startups are attracting investors by claiming their technology will solve many of our transport problems. Micromobility companies believe their e-scooters and e-bikes will solve the “first-mile last-mile” problem by enabling people to move quickly and easily between their homes or workplaces and a bus or rail station. While this might work in theory, it depends on having safe and segregated bicycle networks and frequent and widely accessible public transport services. Ride-hailing services might relieve people of the need to own a car. But there is evidence to suggest these services are adding to traffic congestion. That’s because, unlike taxis, more of their time on the road involves travelling without any passengers.Navigation tools (Google Maps, Apple Maps, Waze) have been around longer than most other mobility technologies and are meant make it easier to find the least-congested route for any given trip. However, research suggests these tools might not be working as intended. The backlash against them is growing in some cities because traffic is being directed onto neighbourhood streets rather than arterial roads.Autonomous vehicles have the goal of reducing injuries and deaths from car crashes. Only a few years ago many bold predictions were being made that these self-driving vehicles would be having positive impacts by now, but this hasn’t happened. The enthusiasm for autonomous vehicles has cooled. Some now believe we won’t see many of the social benefits for decades. \\n  \\n    \\n      Read more:\\n      How we feel about our cars means the road to a driverless future may not be smooth\\n    \\n  \\nThe final mobility tech area is known as mobility as a service (MAAS). It’s basically a platform designed to make better use of existing infrastructure and transport modes. MAAS begins with a journey planner that is linked to one-stop payment for a range of mobility services – ride-hailing, e-scooters, e-bikes, taxis, public transport, and so on. MAAS is the newest entrant in the mobility tech field. It has attracted US$6.8 billion to date, but is expected to grow to over US$100 billion by 2030. This idea is creating great enthusiasm, not only among private entrepreneurs, but also in the public sector. It’s too early to know whether it will improve transportation.'"
      ]
     },
     "execution_count": 15,
     "metadata": {},
     "output_type": "execute_result"
    }
   ],
   "source": [
    "df_more10k['Content'].iloc[0]"
   ]
  },
  {
   "cell_type": "markdown",
   "metadata": {},
   "source": [
    "It's just a large news article."
   ]
  },
  {
   "cell_type": "markdown",
   "metadata": {},
   "source": [
    "Let's now plot a boxplot:"
   ]
  },
  {
   "cell_type": "code",
   "execution_count": 16,
   "metadata": {
    "scrolled": false
   },
   "outputs": [
    {
     "data": {
      "image/png": "[encoded data removed]",
      "text/plain": [
       "<Figure size 921.6x432 with 1 Axes>"
      ]
     },
     "metadata": {},
     "output_type": "display_data"
    }
   ],
   "source": [
    "plt.figure(figsize=(12.8,6))\n",
    "sns.boxplot(data=df, x='Category', y='News_length', width=.5);"
   ]
  },
  {
   "cell_type": "markdown",
   "metadata": {},
   "source": [
    "Now, let's remove the larger documents for better comprehension:"
   ]
  },
  {
   "cell_type": "code",
   "execution_count": 17,
   "metadata": {},
   "outputs": [
    {
     "data": {
      "image/png": "[encoded data removed]",
      "text/plain": [
       "<Figure size 921.6x432 with 1 Axes>"
      ]
     },
     "metadata": {},
     "output_type": "display_data"
    }
   ],
   "source": [
    "plt.figure(figsize=(12.8,6))\n",
    "sns.boxplot(data=df_95, x='Category', y='News_length');"
   ]
  },
  {
   "cell_type": "markdown",
   "metadata": {},
   "source": [
    "We can see that, although the length distribution is different for every category, the difference is not too big. If we had way too different lengths between categories we would have a problem since the feature creation process may take into account counts of words. However, when creating the features with TF-IDF scoring, we will normalize the features just to avoid this."
   ]
  },
  {
   "cell_type": "markdown",
   "metadata": {},
   "source": [
    "At this point, we cannot do further Exploratory Data Analysis. We'll turn onto the **Feature Engineering** section."
   ]
  },
  {
   "cell_type": "markdown",
   "metadata": {},
   "source": [
    "We'll save the dataset:"
   ]
  },
  {
   "cell_type": "code",
   "execution_count": 18,
   "metadata": {},
   "outputs": [],
   "source": [
    "with open('News_dataset.pickle', 'wb') as output:\n",
    "    pickle.dump(df, output)"
   ]
  },
  {
   "cell_type": "code",
   "execution_count": null,
   "metadata": {},
   "outputs": [],
   "source": []
  }
 ],
 "metadata": {
  "kernelspec": {
   "display_name": "Python 3 (ipykernel)",
   "language": "python",
   "name": "python3"
  },
  "language_info": {
   "codemirror_mode": {
    "name": "ipython",
    "version": 3
   },
   "file_extension": ".py",
   "mimetype": "text/x-python",
   "name": "python",
   "nbconvert_exporter": "python",
   "pygments_lexer": "ipython3",
   "version": "3.9.7"
  }
 },
 "nbformat": 4,
 "nbformat_minor": 2
}
